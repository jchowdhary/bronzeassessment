{
 "cells": [
  {
   "cell_type": "markdown",
   "id": "61641387",
   "metadata": {},
   "source": [
    "## Multi-variate Analysis and Model Building on Budget Sales Data"
   ]
  },
  {
   "cell_type": "markdown",
   "id": "ec7c3c79",
   "metadata": {},
   "source": [
    "### Build a multivariate linear regression model that can predict the product sales based on the advertising budget allocated to different channels. The features are TV Budget, Radio Budget, Newspaper Budget and the output is Sales (units)\n",
    "\n",
    "The dataset is given below:\n",
    "\n",
    "```csv\n",
    "TV Budget ($),Radio Budget ($),Newspaper Budget ($),Sales (units)\n",
    "230.1,37.8,69.2,22.1\n",
    "44.5,39.3,45.1,10.4\n",
    "17.2,45.9,69.3,9.3\n",
    "151.5,41.3,58.5,18.5\n",
    "180.8,10.8,58.4,12.9\n",
    "8.7,48.9,75.0,7.2\n",
    "57.5,32.8,23.5,11.8\n",
    "120.2,19.6,11.6,13.2\n",
    "144.1,16.0,40.3,15.6\n",
    "111.6,12.6,37.9,12.2\n",
    "```\n"
   ]
  },
  {
   "cell_type": "markdown",
   "id": "a393308b",
   "metadata": {},
   "source": [
    "### Import required libraries"
   ]
  },
  {
   "cell_type": "code",
   "execution_count": 31,
   "id": "42cd09a6",
   "metadata": {},
   "outputs": [],
   "source": [
    "# Import required libraries\n",
    "import numpy as np\n",
    "import pandas as pd\n",
    "import matplotlib.pyplot as plt\n",
    "from sklearn.model_selection import train_test_split\n",
    "from sklearn.metrics import mean_squared_error, r2_score, mean_absolute_error\n",
    "from sklearn.linear_model import LinearRegression"
   ]
  },
  {
   "cell_type": "markdown",
   "id": "198fb70e",
   "metadata": {},
   "source": [
    "### Load the dataset and perform data cleaning"
   ]
  },
  {
   "cell_type": "code",
   "execution_count": 32,
   "id": "67f44ba5",
   "metadata": {},
   "outputs": [
    {
     "data": {
      "application/vnd.microsoft.datawrangler.viewer.v0+json": {
       "columns": [
        {
         "name": "index",
         "rawType": "int64",
         "type": "integer"
        },
        {
         "name": "TV Budget ($)",
         "rawType": "float64",
         "type": "float"
        },
        {
         "name": "Radio Budget ($)",
         "rawType": "float64",
         "type": "float"
        },
        {
         "name": "Newspaper Budget ($)",
         "rawType": "float64",
         "type": "float"
        },
        {
         "name": "Sales (units)",
         "rawType": "float64",
         "type": "float"
        }
       ],
       "ref": "4a203f49-0ce6-4715-a67a-79bad3483ad0",
       "rows": [
        [
         "0",
         "230.1",
         "37.8",
         "69.2",
         "22.1"
        ],
        [
         "1",
         "44.5",
         "39.3",
         "45.1",
         "10.4"
        ],
        [
         "2",
         "17.2",
         "45.9",
         "69.3",
         "9.3"
        ],
        [
         "3",
         "151.5",
         "41.3",
         "58.5",
         "18.5"
        ],
        [
         "4",
         "180.8",
         "10.8",
         "58.4",
         "12.9"
        ]
       ],
       "shape": {
        "columns": 4,
        "rows": 5
       }
      },
      "text/html": [
       "<div>\n",
       "<style scoped>\n",
       "    .dataframe tbody tr th:only-of-type {\n",
       "        vertical-align: middle;\n",
       "    }\n",
       "\n",
       "    .dataframe tbody tr th {\n",
       "        vertical-align: top;\n",
       "    }\n",
       "\n",
       "    .dataframe thead th {\n",
       "        text-align: right;\n",
       "    }\n",
       "</style>\n",
       "<table border=\"1\" class=\"dataframe\">\n",
       "  <thead>\n",
       "    <tr style=\"text-align: right;\">\n",
       "      <th></th>\n",
       "      <th>TV Budget ($)</th>\n",
       "      <th>Radio Budget ($)</th>\n",
       "      <th>Newspaper Budget ($)</th>\n",
       "      <th>Sales (units)</th>\n",
       "    </tr>\n",
       "  </thead>\n",
       "  <tbody>\n",
       "    <tr>\n",
       "      <th>0</th>\n",
       "      <td>230.1</td>\n",
       "      <td>37.8</td>\n",
       "      <td>69.2</td>\n",
       "      <td>22.1</td>\n",
       "    </tr>\n",
       "    <tr>\n",
       "      <th>1</th>\n",
       "      <td>44.5</td>\n",
       "      <td>39.3</td>\n",
       "      <td>45.1</td>\n",
       "      <td>10.4</td>\n",
       "    </tr>\n",
       "    <tr>\n",
       "      <th>2</th>\n",
       "      <td>17.2</td>\n",
       "      <td>45.9</td>\n",
       "      <td>69.3</td>\n",
       "      <td>9.3</td>\n",
       "    </tr>\n",
       "    <tr>\n",
       "      <th>3</th>\n",
       "      <td>151.5</td>\n",
       "      <td>41.3</td>\n",
       "      <td>58.5</td>\n",
       "      <td>18.5</td>\n",
       "    </tr>\n",
       "    <tr>\n",
       "      <th>4</th>\n",
       "      <td>180.8</td>\n",
       "      <td>10.8</td>\n",
       "      <td>58.4</td>\n",
       "      <td>12.9</td>\n",
       "    </tr>\n",
       "  </tbody>\n",
       "</table>\n",
       "</div>"
      ],
      "text/plain": [
       "   TV Budget ($)  Radio Budget ($)  Newspaper Budget ($)  Sales (units)\n",
       "0          230.1              37.8                  69.2           22.1\n",
       "1           44.5              39.3                  45.1           10.4\n",
       "2           17.2              45.9                  69.3            9.3\n",
       "3          151.5              41.3                  58.5           18.5\n",
       "4          180.8              10.8                  58.4           12.9"
      ]
     },
     "execution_count": 32,
     "metadata": {},
     "output_type": "execute_result"
    }
   ],
   "source": [
    "df = pd.read_csv('dataset/BudgetSales.csv')\n",
    "df.head()"
   ]
  },
  {
   "cell_type": "markdown",
   "id": "38560872",
   "metadata": {},
   "source": [
    "### since the dataset is very small , we can directly use without removing any duplicates or null values"
   ]
  },
  {
   "cell_type": "code",
   "execution_count": 33,
   "id": "76bb7cd1",
   "metadata": {},
   "outputs": [
    {
     "name": "stdout",
     "output_type": "stream",
     "text": [
      "Cleaned column names:\n",
      "['TV_Budget', 'Radio_Budget', 'Newspaper_Budget', 'Sales']\n",
      "\n",
      "Missing values:\n",
      "TV_Budget           0\n",
      "Radio_Budget        0\n",
      "Newspaper_Budget    0\n",
      "Sales               0\n",
      "dtype: int64\n"
     ]
    }
   ],
   "source": [
    "# Clean column names (remove special characters)\n",
    "df.columns = ['TV_Budget', 'Radio_Budget', 'Newspaper_Budget', 'Sales']\n",
    "print(\"Cleaned column names:\")\n",
    "print(df.columns.tolist())\n",
    "\n",
    "# Check for missing values\n",
    "print(\"\\nMissing values:\")\n",
    "print(df.isnull().sum())"
   ]
  },
  {
   "cell_type": "code",
   "execution_count": 34,
   "id": "ead9ad53",
   "metadata": {},
   "outputs": [
    {
     "name": "stdout",
     "output_type": "stream",
     "text": [
      "X  is 2\n"
     ]
    },
    {
     "data": {
      "text/plain": [
       "array([[230.1,  37.8,  69.2],\n",
       "       [ 44.5,  39.3,  45.1],\n",
       "       [ 17.2,  45.9,  69.3],\n",
       "       [151.5,  41.3,  58.5],\n",
       "       [180.8,  10.8,  58.4],\n",
       "       [  8.7,  48.9,  75. ],\n",
       "       [ 57.5,  32.8,  23.5],\n",
       "       [120.2,  19.6,  11.6],\n",
       "       [144.1,  16. ,  40.3],\n",
       "       [111.6,  12.6,  37.9]])"
      ]
     },
     "execution_count": 34,
     "metadata": {},
     "output_type": "execute_result"
    }
   ],
   "source": [
    "#Filter X and y\n",
    "X = df[['TV_Budget', 'Radio_Budget', 'Newspaper_Budget']].values\n",
    "y = df['Sales'].values\n",
    "print(f'X  is {X.ndim}')\n",
    "X\n"
   ]
  },
  {
   "cell_type": "markdown",
   "id": "900a2c03",
   "metadata": {},
   "source": [
    "### TrainTest Split"
   ]
  },
  {
   "cell_type": "code",
   "execution_count": 35,
   "id": "d4b0c406",
   "metadata": {},
   "outputs": [
    {
     "name": "stdout",
     "output_type": "stream",
     "text": [
      "[[ 17.2  45.9  69.3]\n",
      " [111.6  12.6  37.9]\n",
      " [180.8  10.8  58.4]\n",
      " [151.5  41.3  58.5]\n",
      " [ 57.5  32.8  23.5]]\n",
      "[[144.1  16.   40.3]\n",
      " [ 44.5  39.3  45.1]\n",
      " [  8.7  48.9  75. ]\n",
      " [230.1  37.8  69.2]\n",
      " [120.2  19.6  11.6]]\n"
     ]
    }
   ],
   "source": [
    "X_train, X_test, y_train, y_test = train_test_split(X, y, test_size=0.5, random_state=42)\n",
    "X_train.shape, X_test.shape, y_train.shape, y_test.shape\n",
    "print(X_train)\n",
    "\n",
    "print(X_test)"
   ]
  },
  {
   "cell_type": "markdown",
   "id": "0e0af448",
   "metadata": {},
   "source": [
    "### Build and train the multivariate linear regression model & calculate the model performance using R2 score and Mean Squared Error"
   ]
  },
  {
   "cell_type": "code",
   "execution_count": 36,
   "id": "bf94acfa",
   "metadata": {},
   "outputs": [
    {
     "name": "stdout",
     "output_type": "stream",
     "text": [
      "Mean Squared Error: 2.1568431629394866\n",
      "R^2 Score: 0.9154576997907069\n"
     ]
    }
   ],
   "source": [
    "# create the model\n",
    "model = LinearRegression()\n",
    "# train the model\n",
    "model.fit(X_train, y_train)\n",
    "# make predictions\n",
    "y_pred = model.predict(X_test)\n",
    "\n",
    "# evaluate the model\n",
    "mse = mean_squared_error(y_test, y_pred)\n",
    "r2 = r2_score(y_test, y_pred)\n",
    "print(f'Mean Squared Error: {mse}')\n",
    "print(f'R^2 Score: {r2}')"
   ]
  },
  {
   "cell_type": "markdown",
   "id": "572c9bbc",
   "metadata": {},
   "source": [
    "### Let's Test it "
   ]
  },
  {
   "cell_type": "markdown",
   "id": "91f04ed1",
   "metadata": {},
   "source": [
    "We will pass the following values to the model and check the output\n",
    "   - TV Budget = 150\n",
    "   - Radio Budget = 30\n",
    "   - Newspaper Budget = 20\n",
    "\n",
    "# Make predictions\n",
    "input_data = np.array([[150, 30, 20]])\n",
    "predicted_sales = model.predict(input_data)\n",
    "print(f'Predicted Sales: {predicted_sales}')"
   ]
  },
  {
   "cell_type": "code",
   "execution_count": 37,
   "id": "183a1aa8",
   "metadata": {},
   "outputs": [
    {
     "name": "stdout",
     "output_type": "stream",
     "text": [
      "Predicted Sales: [18.26222304]\n"
     ]
    }
   ],
   "source": [
    "input_data = np.array([[150, 30, 20]])\n",
    "predicted_sales = model.predict(input_data)\n",
    "print(f'Predicted Sales: {predicted_sales}')"
   ]
  },
  {
   "cell_type": "markdown",
   "id": "b9213419",
   "metadata": {},
   "source": [
    "### Now I will pass the same 2d array data to see if the predicted model is coming close to training data or not"
   ]
  },
  {
   "cell_type": "code",
   "execution_count": 38,
   "id": "49048789",
   "metadata": {},
   "outputs": [
    {
     "name": "stdout",
     "output_type": "stream",
     "text": [
      "X_train[1] is [111.6  12.6  37.9]\n",
      "y_train[1] is 12.2\n"
     ]
    }
   ],
   "source": [
    "print(f'X_train[1] is {X_train[1]}')\n",
    "print(f'y_train[1] is {y_train[1]}')"
   ]
  },
  {
   "cell_type": "code",
   "execution_count": 39,
   "id": "4e2370dd",
   "metadata": {},
   "outputs": [
    {
     "name": "stdout",
     "output_type": "stream",
     "text": [
      "Predicted Sales for same X_train[1]: [11.02736625]\n",
      "Actual Sales for same X_train[1]: 12.2\n",
      "--------------------------------\n",
      "------Metrics Check-------------\n",
      "MSE: 1.3750699156633643\n",
      "MAE: 1.1726337517159244\n",
      "R2: 0.9154576997907069\n"
     ]
    }
   ],
   "source": [
    "# Pass the same value to the model created\n",
    "\n",
    "\n",
    "input_data = np.array([[111.6, 12.6, 37.9]])\n",
    "predicted_sales = model.predict(input_data)\n",
    "print(f'Predicted Sales for same X_train[1]: {predicted_sales}')\n",
    "print(f'Actual Sales for same X_train[1]: {y_train[1]}')\n",
    "\n",
    "print('--------------------------------')\n",
    "print('------Metrics Check-------------')\n",
    "\n",
    "mse = mean_squared_error([y_train[1]], predicted_sales)\n",
    "mae = mean_absolute_error([y_train[1]], predicted_sales.ravel())\n",
    "#r2 = r2_score([y_train[1]], predicted_sales)  will be irrelevant for single value``\n",
    "\n",
    "print(f\"MSE: {mse}\")\n",
    "print(f\"MAE: {mae}\")\n",
    "print(f\"R2: {r2}\")\n",
    "\n"
   ]
  },
  {
   "cell_type": "markdown",
   "id": "373b3948",
   "metadata": {},
   "source": [
    "### Lets plot the actual Sales Vs Predicted Sales for each of the training data points"
   ]
  },
  {
   "cell_type": "code",
   "execution_count": 40,
   "id": "b9905c4b",
   "metadata": {},
   "outputs": [
    {
     "data": {
      "image/png": "[encoded data removed]",
      "text/plain": [
       "<Figure size 1000x500 with 1 Axes>"
      ]
     },
     "metadata": {},
     "output_type": "display_data"
    }
   ],
   "source": [
    "# Predict on train and test sets\n",
    "y_train_pred = model.predict(X_train)\n",
    "y_test_pred = model.predict(X_test)\n",
    "\n",
    "plt.figure(figsize=(10, 5))\n",
    "\n",
    "# Plot for training data\n",
    "plt.scatter(y_train, y_train_pred, color='blue', label='Train: Actual vs Predicted')\n",
    "# Plot for test data\n",
    "plt.scatter(y_test, y_test_pred, color='red', label='Test: Actual vs Predicted')\n",
    "\n",
    "# Reference line (perfect prediction)\n",
    "min_y = min(y_train.min(), y_test.min(), y_train_pred.min(), y_test_pred.min())\n",
    "max_y = max(y_train.max(), y_test.max(), y_train_pred.max(), y_test_pred.max())\n",
    "plt.plot([min_y, max_y], [min_y, max_y], 'k--', lw=2, label='Perfect Prediction')\n",
    "\n",
    "plt.xlabel('Actual Sales')\n",
    "plt.ylabel('Predicted Sales')\n",
    "plt.title('Actual vs Predicted Sales (Train & Test)')\n",
    "plt.legend()\n",
    "plt.show()"
   ]
  },
  {
   "cell_type": "markdown",
   "id": "587075b4",
   "metadata": {},
   "source": [
    "## Thanks for your attention!"
   ]
  }
 ],
 "metadata": {
  "kernelspec": {
   "display_name": "hclenv",
   "language": "python",
   "name": "python3"
  },
  "language_info": {
   "codemirror_mode": {
    "name": "ipython",
    "version": 3
   },
   "file_extension": ".py",
   "mimetype": "text/x-python",
   "name": "python",
   "nbconvert_exporter": "python",
   "pygments_lexer": "ipython3",
   "version": "3.10.18"
  }
 },
 "nbformat": 4,
 "nbformat_minor": 5
}
