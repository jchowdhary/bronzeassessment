{
 "cells": [
  {
   "cell_type": "markdown",
   "id": "c8b7a5e8",
   "metadata": {},
   "source": [
    "### Predict the employee attrition in an organization based on the following features. The features and the dataset are given below. use a classification model with KNN algorithm\n",
    "\n",
    "Features:\n",
    "- Age: Age of the employee (numerical).\n",
    "- JobRole: The job role/position of the employee (categorical).\n",
    "- MonthlyIncome: Employee's monthly salary (numerical).\n",
    "- JobSatisfaction: A rating from 1 to 4 indicating the employee's satisfaction with the job (numerical).\n",
    "- YearsAtCompany: Number of years the employee has been at the company (numerical).\n",
    "- Attrition: Target label indicating whether the employee left the company (1 for attrition, 0 for no attrition)\n",
    "```csv\n",
    "Age,JobRole,MonthlyIncome,JobSatisfaction,YearsAtCompany,Attrition\n",
    "29,Sales Executive,4800,3,4,1\n",
    "35,Research Scientist,6000,4,8,0\n",
    "40,Laboratory Technician,3400,2,6,0\n",
    "28,Sales Executive,4300,3,3,1\n",
    "45,Manager,11000,4,15,0\n",
    "25,Research Scientist,3500,1,2,1\n",
    "50,Manager,12000,4,20,0\n",
    "30,Sales Executive,5000,2,5,0\n",
    "37, Laboratory Technician,3100,2,9,0\n",
    "26, Research Scientist,4500,3,2,1\n",
    "```"
   ]
  },
  {
   "cell_type": "code",
   "execution_count": null,
   "id": "6e4155c1",
   "metadata": {},
   "outputs": [],
   "source": [
    "# Import required libraries\n",
    "import numpy as np\n",
    "import pandas as pd\n",
    "import matplotlib.pyplot as plt\n",
    "from sklearn.model_selection import train_test_split\n",
    "from sklearn.neighbors import KNeighborsClassifier\n",
    "from sklearn.preprocessing import StandardScaler\n",
    "\n"
   ]
  },
  {
   "cell_type": "markdown",
   "id": "1023fa2b",
   "metadata": {},
   "source": [
    "### Load the data"
   ]
  },
  {
   "cell_type": "code",
   "execution_count": null,
   "id": "2a514199",
   "metadata": {},
   "outputs": [
    {
     "data": {
      "application/vnd.microsoft.datawrangler.viewer.v0+json": {
       "columns": [
        {
         "name": "index",
         "rawType": "int64",
         "type": "integer"
        },
        {
         "name": "Age",
         "rawType": "int64",
         "type": "integer"
        },
        {
         "name": "JobRole",
         "rawType": "object",
         "type": "string"
        },
        {
         "name": "MonthlyIncome",
         "rawType": "int64",
         "type": "integer"
        },
        {
         "name": "JobSatisfaction",
         "rawType": "int64",
         "type": "integer"
        },
        {
         "name": "YearsAtCompany",
         "rawType": "int64",
         "type": "integer"
        },
        {
         "name": "Attrition",
         "rawType": "int64",
         "type": "integer"
        }
       ],
       "ref": "9cd4f3bc-fc87-4e65-b42f-ff443b45a6c6",
       "rows": [
        [
         "0",
         "29",
         "Sales Executive",
         "4800",
         "3",
         "4",
         "1"
        ],
        [
         "1",
         "35",
         "Research Scientist",
         "6000",
         "4",
         "8",
         "0"
        ],
        [
         "2",
         "40",
         "Laboratory Technician",
         "3400",
         "2",
         "6",
         "0"
        ],
        [
         "3",
         "28",
         "Sales Executive",
         "4300",
         "3",
         "3",
         "1"
        ],
        [
         "4",
         "45",
         "Manager",
         "11000",
         "4",
         "15",
         "0"
        ],
        [
         "5",
         "25",
         "Research Scientist",
         "3500",
         "1",
         "2",
         "1"
        ],
        [
         "6",
         "50",
         "Manager",
         "12000",
         "4",
         "20",
         "0"
        ],
        [
         "7",
         "30",
         "Sales Executive",
         "5000",
         "2",
         "5",
         "0"
        ],
        [
         "8",
         "37",
         "Laboratory Technician",
         "3100",
         "2",
         "9",
         "0"
        ],
        [
         "9",
         "26",
         "Research Scientist",
         "4500",
         "3",
         "2",
         "1"
        ]
       ],
       "shape": {
        "columns": 6,
        "rows": 10
       }
      },
      "text/html": [
       "<div>\n",
       "<style scoped>\n",
       "    .dataframe tbody tr th:only-of-type {\n",
       "        vertical-align: middle;\n",
       "    }\n",
       "\n",
       "    .dataframe tbody tr th {\n",
       "        vertical-align: top;\n",
       "    }\n",
       "\n",
       "    .dataframe thead th {\n",
       "        text-align: right;\n",
       "    }\n",
       "</style>\n",
       "<table border=\"1\" class=\"dataframe\">\n",
       "  <thead>\n",
       "    <tr style=\"text-align: right;\">\n",
       "      <th></th>\n",
       "      <th>Age</th>\n",
       "      <th>JobRole</th>\n",
       "      <th>MonthlyIncome</th>\n",
       "      <th>JobSatisfaction</th>\n",
       "      <th>YearsAtCompany</th>\n",
       "      <th>Attrition</th>\n",
       "    </tr>\n",
       "  </thead>\n",
       "  <tbody>\n",
       "    <tr>\n",
       "      <th>0</th>\n",
       "      <td>29</td>\n",
       "      <td>Sales Executive</td>\n",
       "      <td>4800</td>\n",
       "      <td>3</td>\n",
       "      <td>4</td>\n",
       "      <td>1</td>\n",
       "    </tr>\n",
       "    <tr>\n",
       "      <th>1</th>\n",
       "      <td>35</td>\n",
       "      <td>Research Scientist</td>\n",
       "      <td>6000</td>\n",
       "      <td>4</td>\n",
       "      <td>8</td>\n",
       "      <td>0</td>\n",
       "    </tr>\n",
       "    <tr>\n",
       "      <th>2</th>\n",
       "      <td>40</td>\n",
       "      <td>Laboratory Technician</td>\n",
       "      <td>3400</td>\n",
       "      <td>2</td>\n",
       "      <td>6</td>\n",
       "      <td>0</td>\n",
       "    </tr>\n",
       "    <tr>\n",
       "      <th>3</th>\n",
       "      <td>28</td>\n",
       "      <td>Sales Executive</td>\n",
       "      <td>4300</td>\n",
       "      <td>3</td>\n",
       "      <td>3</td>\n",
       "      <td>1</td>\n",
       "    </tr>\n",
       "    <tr>\n",
       "      <th>4</th>\n",
       "      <td>45</td>\n",
       "      <td>Manager</td>\n",
       "      <td>11000</td>\n",
       "      <td>4</td>\n",
       "      <td>15</td>\n",
       "      <td>0</td>\n",
       "    </tr>\n",
       "    <tr>\n",
       "      <th>5</th>\n",
       "      <td>25</td>\n",
       "      <td>Research Scientist</td>\n",
       "      <td>3500</td>\n",
       "      <td>1</td>\n",
       "      <td>2</td>\n",
       "      <td>1</td>\n",
       "    </tr>\n",
       "    <tr>\n",
       "      <th>6</th>\n",
       "      <td>50</td>\n",
       "      <td>Manager</td>\n",
       "      <td>12000</td>\n",
       "      <td>4</td>\n",
       "      <td>20</td>\n",
       "      <td>0</td>\n",
       "    </tr>\n",
       "    <tr>\n",
       "      <th>7</th>\n",
       "      <td>30</td>\n",
       "      <td>Sales Executive</td>\n",
       "      <td>5000</td>\n",
       "      <td>2</td>\n",
       "      <td>5</td>\n",
       "      <td>0</td>\n",
       "    </tr>\n",
       "    <tr>\n",
       "      <th>8</th>\n",
       "      <td>37</td>\n",
       "      <td>Laboratory Technician</td>\n",
       "      <td>3100</td>\n",
       "      <td>2</td>\n",
       "      <td>9</td>\n",
       "      <td>0</td>\n",
       "    </tr>\n",
       "    <tr>\n",
       "      <th>9</th>\n",
       "      <td>26</td>\n",
       "      <td>Research Scientist</td>\n",
       "      <td>4500</td>\n",
       "      <td>3</td>\n",
       "      <td>2</td>\n",
       "      <td>1</td>\n",
       "    </tr>\n",
       "  </tbody>\n",
       "</table>\n",
       "</div>"
      ],
      "text/plain": [
       "   Age                JobRole  MonthlyIncome  JobSatisfaction  YearsAtCompany  \\\n",
       "0   29        Sales Executive           4800                3               4   \n",
       "1   35     Research Scientist           6000                4               8   \n",
       "2   40  Laboratory Technician           3400                2               6   \n",
       "3   28        Sales Executive           4300                3               3   \n",
       "4   45                Manager          11000                4              15   \n",
       "5   25     Research Scientist           3500                1               2   \n",
       "6   50                Manager          12000                4              20   \n",
       "7   30        Sales Executive           5000                2               5   \n",
       "8   37  Laboratory Technician           3100                2               9   \n",
       "9   26     Research Scientist           4500                3               2   \n",
       "\n",
       "   Attrition  \n",
       "0          1  \n",
       "1          0  \n",
       "2          0  \n",
       "3          1  \n",
       "4          0  \n",
       "5          1  \n",
       "6          0  \n",
       "7          0  \n",
       "8          0  \n",
       "9          1  "
      ]
     },
     "execution_count": 9,
     "metadata": {},
     "output_type": "execute_result"
    }
   ],
   "source": [
    "df = pd.read_csv('dataset/EmployeeAtrition.csv')\n",
    "df"
   ]
  },
  {
   "cell_type": "code",
   "execution_count": null,
   "id": "c81aca5f",
   "metadata": {},
   "outputs": [
    {
     "name": "stdout",
     "output_type": "stream",
     "text": [
      "   Age  MonthlyIncome  JobSatisfaction  YearsAtCompany  JobRole_Manager  \\\n",
      "0   29           4800                3               4            False   \n",
      "1   35           6000                4               8            False   \n",
      "2   40           3400                2               6            False   \n",
      "3   28           4300                3               3            False   \n",
      "4   45          11000                4              15             True   \n",
      "5   25           3500                1               2            False   \n",
      "6   50          12000                4              20             True   \n",
      "7   30           5000                2               5            False   \n",
      "8   37           3100                2               9            False   \n",
      "9   26           4500                3               2            False   \n",
      "\n",
      "   JobRole_Research Scientist  JobRole_Sales Executive  \n",
      "0                       False                     True  \n",
      "1                        True                    False  \n",
      "2                       False                    False  \n",
      "3                       False                     True  \n",
      "4                       False                    False  \n",
      "5                        True                    False  \n",
      "6                       False                    False  \n",
      "7                       False                     True  \n",
      "8                       False                    False  \n",
      "9                        True                    False  \n"
     ]
    },
    {
     "data": {
      "application/vnd.microsoft.datawrangler.viewer.v0+json": {
       "columns": [
        {
         "name": "index",
         "rawType": "int64",
         "type": "integer"
        },
        {
         "name": "Attrition",
         "rawType": "int64",
         "type": "integer"
        }
       ],
       "ref": "41a854fd-0054-4f8b-aee9-70943b2e6557",
       "rows": [
        [
         "0",
         "1"
        ],
        [
         "1",
         "0"
        ],
        [
         "2",
         "0"
        ],
        [
         "3",
         "1"
        ],
        [
         "4",
         "0"
        ],
        [
         "5",
         "1"
        ],
        [
         "6",
         "0"
        ],
        [
         "7",
         "0"
        ],
        [
         "8",
         "0"
        ],
        [
         "9",
         "1"
        ]
       ],
       "shape": {
        "columns": 1,
        "rows": 10
       }
      },
      "text/html": [
       "<div>\n",
       "<style scoped>\n",
       "    .dataframe tbody tr th:only-of-type {\n",
       "        vertical-align: middle;\n",
       "    }\n",
       "\n",
       "    .dataframe tbody tr th {\n",
       "        vertical-align: top;\n",
       "    }\n",
       "\n",
       "    .dataframe thead th {\n",
       "        text-align: right;\n",
       "    }\n",
       "</style>\n",
       "<table border=\"1\" class=\"dataframe\">\n",
       "  <thead>\n",
       "    <tr style=\"text-align: right;\">\n",
       "      <th></th>\n",
       "      <th>Attrition</th>\n",
       "    </tr>\n",
       "  </thead>\n",
       "  <tbody>\n",
       "    <tr>\n",
       "      <th>0</th>\n",
       "      <td>1</td>\n",
       "    </tr>\n",
       "    <tr>\n",
       "      <th>1</th>\n",
       "      <td>0</td>\n",
       "    </tr>\n",
       "    <tr>\n",
       "      <th>2</th>\n",
       "      <td>0</td>\n",
       "    </tr>\n",
       "    <tr>\n",
       "      <th>3</th>\n",
       "      <td>1</td>\n",
       "    </tr>\n",
       "    <tr>\n",
       "      <th>4</th>\n",
       "      <td>0</td>\n",
       "    </tr>\n",
       "    <tr>\n",
       "      <th>5</th>\n",
       "      <td>1</td>\n",
       "    </tr>\n",
       "    <tr>\n",
       "      <th>6</th>\n",
       "      <td>0</td>\n",
       "    </tr>\n",
       "    <tr>\n",
       "      <th>7</th>\n",
       "      <td>0</td>\n",
       "    </tr>\n",
       "    <tr>\n",
       "      <th>8</th>\n",
       "      <td>0</td>\n",
       "    </tr>\n",
       "    <tr>\n",
       "      <th>9</th>\n",
       "      <td>1</td>\n",
       "    </tr>\n",
       "  </tbody>\n",
       "</table>\n",
       "</div>"
      ],
      "text/plain": [
       "   Attrition\n",
       "0          1\n",
       "1          0\n",
       "2          0\n",
       "3          1\n",
       "4          0\n",
       "5          1\n",
       "6          0\n",
       "7          0\n",
       "8          0\n",
       "9          1"
      ]
     },
     "execution_count": 10,
     "metadata": {},
     "output_type": "execute_result"
    }
   ],
   "source": [
    "X = df[['Age', 'MonthlyIncome','JobSatisfaction','YearsAtCompany']]\n",
    "# One-hot encode the 'JobRole' categorical variable\n",
    "X_cat = pd.get_dummies(df['JobRole'], prefix='JobRole', drop_first=True)\n",
    "\n",
    "X = pd.concat([X, X_cat], axis=1)\n",
    "print(X)\n",
    "Y = df[['Attrition']]\n",
    "Y"
   ]
  },
  {
   "cell_type": "code",
   "execution_count": null,
   "id": "5e756b74",
   "metadata": {},
   "outputs": [],
   "source": []
  },
  {
   "cell_type": "code",
   "execution_count": null,
   "id": "5a96e249",
   "metadata": {},
   "outputs": [
    {
     "name": "stdout",
     "output_type": "stream",
     "text": [
      "   Age  MonthlyIncome  JobSatisfaction  YearsAtCompany  JobRole_Manager  \\\n",
      "5   25           3500                1               2            False   \n",
      "0   29           4800                3               4            False   \n",
      "7   30           5000                2               5            False   \n",
      "2   40           3400                2               6            False   \n",
      "9   26           4500                3               2            False   \n",
      "4   45          11000                4              15             True   \n",
      "3   28           4300                3               3            False   \n",
      "6   50          12000                4              20             True   \n",
      "\n",
      "   JobRole_Research Scientist  JobRole_Sales Executive  \n",
      "5                        True                    False  \n",
      "0                       False                     True  \n",
      "7                       False                     True  \n",
      "2                       False                    False  \n",
      "9                        True                    False  \n",
      "4                       False                    False  \n",
      "3                       False                     True  \n",
      "6                       False                    False  \n",
      "   Age  MonthlyIncome  JobSatisfaction  YearsAtCompany  JobRole_Manager  \\\n",
      "8   37           3100                2               9            False   \n",
      "1   35           6000                4               8            False   \n",
      "\n",
      "   JobRole_Research Scientist  JobRole_Sales Executive  \n",
      "8                       False                    False  \n",
      "1                        True                    False  \n"
     ]
    }
   ],
   "source": [
    "X_train, X_test, y_train, y_test = train_test_split(X, Y, test_size=0.2, random_state=42)\n",
    "X_train.shape, X_test.shape, y_train.shape, y_test.shape\n",
    "print(X_train)\n",
    "\n",
    "print(X_test)"
   ]
  },
  {
   "cell_type": "markdown",
   "id": "6f6e612b",
   "metadata": {},
   "source": [
    "### Scaling the categorical values"
   ]
  },
  {
   "cell_type": "code",
   "execution_count": null,
   "id": "a56173b8",
   "metadata": {},
   "outputs": [],
   "source": [
    "scaler = StandardScaler()\n",
    "X_train_scaled = scaler.fit_transform(X_train)\n",
    "X_test_scaled = scaler.transform(X_test)"
   ]
  },
  {
   "cell_type": "markdown",
   "id": "2d959eba",
   "metadata": {},
   "source": [
    "### KNN Algorithm"
   ]
  },
  {
   "cell_type": "code",
   "execution_count": null,
   "id": "3421b95e",
   "metadata": {},
   "outputs": [
    {
     "name": "stdout",
     "output_type": "stream",
     "text": [
      "Accuracy: 0.5\n",
      "              precision    recall  f1-score   support\n",
      "\n",
      "           0       1.00      0.50      0.67         2\n",
      "           1       0.00      0.00      0.00         0\n",
      "\n",
      "    accuracy                           0.50         2\n",
      "   macro avg       0.50      0.25      0.33         2\n",
      "weighted avg       1.00      0.50      0.67         2\n",
      "\n"
     ]
    },
    {
     "name": "stderr",
     "output_type": "stream",
     "text": [
      "/home/jayant/anaconda3/envs/hclenv/lib/python3.10/site-packages/sklearn/neighbors/_classification.py:239: DataConversionWarning: A column-vector y was passed when a 1d array was expected. Please change the shape of y to (n_samples,), for example using ravel().\n",
      "  return self._fit(X, y)\n",
      "/home/jayant/anaconda3/envs/hclenv/lib/python3.10/site-packages/sklearn/metrics/_classification.py:1731: UndefinedMetricWarning: Recall is ill-defined and being set to 0.0 in labels with no true samples. Use `zero_division` parameter to control this behavior.\n",
      "  _warn_prf(average, modifier, f\"{metric.capitalize()} is\", result.shape[0])\n",
      "/home/jayant/anaconda3/envs/hclenv/lib/python3.10/site-packages/sklearn/metrics/_classification.py:1731: UndefinedMetricWarning: Recall is ill-defined and being set to 0.0 in labels with no true samples. Use `zero_division` parameter to control this behavior.\n",
      "  _warn_prf(average, modifier, f\"{metric.capitalize()} is\", result.shape[0])\n",
      "/home/jayant/anaconda3/envs/hclenv/lib/python3.10/site-packages/sklearn/metrics/_classification.py:1731: UndefinedMetricWarning: Recall is ill-defined and being set to 0.0 in labels with no true samples. Use `zero_division` parameter to control this behavior.\n",
      "  _warn_prf(average, modifier, f\"{metric.capitalize()} is\", result.shape[0])\n"
     ]
    }
   ],
   "source": [
    "from sklearn.metrics import accuracy_score, classification_report\n",
    "# Train KNN\n",
    "knn = KNeighborsClassifier(n_neighbors=3)\n",
    "knn.fit(X_train_scaled, y_train)      # y_train is a Series (1-D)\n",
    "\n",
    "# Predict & evaluate\n",
    "y_pred = knn.predict(X_test_scaled)\n",
    "print('Accuracy:', accuracy_score(y_test, y_pred))\n",
    "print(classification_report(y_test, y_pred))\n",
    "\n",
    "# test with sample data\n",
    "sample_data = np.array([[35, 6000, 4, 5, 0, 0, 0, 0, 0, 1, 0"
   ]
  }
 ],
 "metadata": {
  "kernelspec": {
   "display_name": "hclenv",
   "language": "python",
   "name": "python3"
  },
  "language_info": {
   "codemirror_mode": {
    "name": "ipython",
    "version": 3
   },
   "file_extension": ".py",
   "mimetype": "text/x-python",
   "name": "python",
   "nbconvert_exporter": "python",
   "pygments_lexer": "ipython3",
   "version": "3.10.18"
  }
 },
 "nbformat": 4,
 "nbformat_minor": 5
}
